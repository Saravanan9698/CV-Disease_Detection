{
 "cells": [
  {
   "cell_type": "code",
   "execution_count": 1,
   "metadata": {},
   "outputs": [],
   "source": [
    "from pathlib import Path\n",
    "import yaml"
   ]
  },
  {
   "cell_type": "code",
   "execution_count": 2,
   "metadata": {},
   "outputs": [],
   "source": [
    "# ! pip install torch torchvision torchaudio  \n",
    "# ! pip install ultralytics  "
   ]
  },
  {
   "cell_type": "code",
   "execution_count": 3,
   "metadata": {},
   "outputs": [],
   "source": [
    "# ! pip install ultralytics opencv-python pandas numpy albumentations torch torchvision matplotlib"
   ]
  },
  {
   "cell_type": "code",
   "execution_count": 2,
   "metadata": {},
   "outputs": [],
   "source": [
    "# ! pip install yolov5\n",
    "\n",
    "import pandas as pd"
   ]
  },
  {
   "cell_type": "code",
   "execution_count": 6,
   "metadata": {},
   "outputs": [],
   "source": [
    "# import os\n",
    "# import shutil\n",
    "\n",
    "# from sklearn.model_selection import train_test_split\n",
    "\n",
    "# # === 1. Load Metadata === #\n",
    "# df = pd.read_csv(r\"D:\\Projects\\Disease_Detection\\Ground_Truth.csv\")\n",
    "# df['Finding Labels'] = df['Finding Labels'].fillna('No Finding')\n",
    "\n",
    "# # === 2. Create Unique Class Map === #\n",
    "# all_labels = set()\n",
    "# for labels in df['Finding Labels']:\n",
    "#     for label in labels.split('|'):\n",
    "#         all_labels.add(label.strip())\n",
    "\n",
    "# all_labels = sorted(list(all_labels))\n",
    "# class_map = {label: idx for idx, label in enumerate(all_labels)}\n",
    "\n",
    "# print(\"✅ Class Map:\", class_map)\n",
    "\n",
    "# # === 3. Setup Folder Structure === #\n",
    "# for folder in ['images/train', 'images/val', 'labels/train', 'labels/val']:\n",
    "#     os.makedirs(folder, exist_ok=True)\n",
    "\n",
    "# # === 4. Filter Only Available Images === #\n",
    "# image_folder = r\"D:\\Projects\\Disease_Detection\\xray_images\"\n",
    "\n",
    "# def get_valid_image_path(image_name):\n",
    "#     for ext in ['.png', '.jpg', '.jpeg']:\n",
    "#         candidate = os.path.join(image_folder, image_name.replace('.png', ext))\n",
    "#         if os.path.exists(candidate):\n",
    "#             return candidate\n",
    "#     return None\n",
    "\n",
    "# df['image_path'] = df['Image Index'].apply(get_valid_image_path)\n",
    "# df = df[df['image_path'].notnull()]  # Keep only rows with valid images\n",
    "\n",
    "# print(f\"✅ Valid images found: {len(df)}\")\n",
    "\n",
    "# # === 5. Train/Val Split === #\n",
    "# train_df, val_df = train_test_split(df, test_size=0.2, random_state=42)\n",
    "\n",
    "# # === 6. Process Data === #\n",
    "# def process(df_split, split_name):\n",
    "#     for _, row in df_split.iterrows():\n",
    "#         img_name = row['Image Index']\n",
    "#         img_path = row['image_path']\n",
    "#         labels = row['Finding Labels'].split('|')\n",
    "\n",
    "#         # Create YOLO format label\n",
    "#         label_lines = []\n",
    "#         for l in labels:\n",
    "#             l = l.strip()\n",
    "#             if l != \"No Finding\":  # Optional: skip images with no findings\n",
    "#                 label_id = class_map[l]\n",
    "#                 label_lines.append(f\"{label_id} 0.5 0.5 1.0 1.0\")  # whole image bbox\n",
    "\n",
    "#         if len(label_lines) == 0:\n",
    "#             continue  # Skip if no valid labels\n",
    "\n",
    "#         # Save label file\n",
    "#         label_filename = img_name.replace('.png', '.txt').replace('.jpg', '.txt').replace('.jpeg', '.txt')\n",
    "#         label_path = f\"labels/{split_name}/{label_filename}\"\n",
    "#         with open(label_path, 'w') as f:\n",
    "#             f.write(\"\\n\".join(label_lines))\n",
    "\n",
    "#         # Copy image\n",
    "#         dst_img_path = f\"images/{split_name}/{img_name}\"\n",
    "#         shutil.copy(img_path, dst_img_path)\n",
    "\n",
    "# # === 7. Run Processing === #\n",
    "# process(train_df, 'train')\n",
    "# process(val_df, 'val')\n",
    "\n",
    "# # === 8. Generate data.yaml === #\n",
    "# with open(\"data.yaml\", \"w\") as f:\n",
    "#     f.write(\"train: ./images/train\\n\")\n",
    "#     f.write(\"val: ./images/val\\n\")\n",
    "#     f.write(f\"nc: {len(all_labels)}\\n\")\n",
    "#     f.write(\"names: [\" + \", \".join([f\"'{c}'\" for c in all_labels]) + \"]\\n\")\n",
    "\n",
    "# print(\"✅ All Done. YOLOv5 dataset is ready!\")\n",
    "\n"
   ]
  },
  {
   "cell_type": "code",
   "execution_count": 3,
   "metadata": {},
   "outputs": [
    {
     "name": "stdout",
     "output_type": "stream",
     "text": [
      "✅ Class Map: {'Atelectasis': 0, 'Cardiomegaly': 1, 'Consolidation': 2, 'Edema': 3, 'Effusion': 4, 'Emphysema': 5, 'Fibrosis': 6, 'Hernia': 7, 'Infiltration': 8, 'Mass': 9, 'No Finding': 10, 'Nodule': 11, 'Pleural_Thickening': 12, 'Pneumonia': 13, 'Pneumothorax': 14}\n",
      "✅ Valid images found: 3681\n",
      "✅ All Done. YOLOv5 dataset with preprocessing is ready!\n"
     ]
    }
   ],
   "source": [
    "import os\n",
    "import shutil\n",
    "import cv2\n",
    "import numpy as np\n",
    "import pandas as pd\n",
    "from sklearn.model_selection import train_test_split\n",
    "\n",
    "# === 1. Load Metadata === #\n",
    "df = pd.read_csv(r\"D:\\Projects\\Disease_Detection\\X-Ray_image-Dataset\\Chest_XRay_Dataset\\Ground_Truth.csv\")\n",
    "df['Finding Labels'] = df['Finding Labels'].fillna('No Finding')\n",
    "\n",
    "# === 2. Create Unique Class Map === #\n",
    "all_labels = set()\n",
    "for labels in df['Finding Labels']:\n",
    "    for label in labels.split('|'):\n",
    "        all_labels.add(label.strip())\n",
    "\n",
    "all_labels = sorted(list(all_labels))\n",
    "class_map = {label: idx for idx, label in enumerate(all_labels)}\n",
    "\n",
    "print(\"✅ Class Map:\", class_map)\n",
    "\n",
    "# === 3. Setup Folder Structure === #\n",
    "for folder in ['images/train', 'images/val', 'labels/train', 'labels/val']:\n",
    "    os.makedirs(folder, exist_ok=True)\n",
    "\n",
    "# === 4. Filter Only Available Images === #\n",
    "image_folder = r\"D:\\Projects\\Disease_Detection\\X-Ray_image-Dataset\\Chest_XRay_Dataset\\xray_images\"\n",
    "\n",
    "def get_valid_image_path(image_name):\n",
    "    for ext in ['.png', '.jpg', '.jpeg']:\n",
    "        candidate = os.path.join(image_folder, image_name.replace('.png', ext))\n",
    "        if os.path.exists(candidate):\n",
    "            return candidate\n",
    "    return None\n",
    "\n",
    "df['image_path'] = df['Image Index'].apply(get_valid_image_path)\n",
    "df = df[df['image_path'].notnull()]  # Keep only rows with valid images\n",
    "\n",
    "print(f\"✅ Valid images found: {len(df)}\")\n",
    "\n",
    "# === 5. Train/Val Split === #\n",
    "train_df, val_df = train_test_split(df, test_size=0.2, random_state=42)\n",
    "\n",
    "# === 6. Preprocessing Function === #\n",
    "def preprocess_image(img_path, resize_dim=(640, 640)):\n",
    "    img = cv2.imread(img_path, cv2.IMREAD_GRAYSCALE)\n",
    "    if img is None:\n",
    "        return None\n",
    "\n",
    "    # Histogram Equalization\n",
    "    img = cv2.equalizeHist(img)\n",
    "\n",
    "    # Optional: CLAHE\n",
    "    # clahe = cv2.createCLAHE(clipLimit=2.0, tileGridSize=(8, 8))\n",
    "    # img = clahe.apply(img)\n",
    "\n",
    "    # Resize and normalize\n",
    "    img = cv2.resize(img, resize_dim)\n",
    "    img = cv2.normalize(img.astype('float32'), None, 0.0, 255.0, cv2.NORM_MINMAX)\n",
    "    return img.astype(np.uint8)\n",
    "\n",
    "# === 7. Process Data === #\n",
    "def process(df_split, split_name):\n",
    "    for _, row in df_split.iterrows():\n",
    "        img_name = row['Image Index']\n",
    "        img_path = row['image_path']\n",
    "        labels = row['Finding Labels'].split('|')\n",
    "\n",
    "        # Preprocess the image\n",
    "        processed_img = preprocess_image(img_path)\n",
    "        if processed_img is None:\n",
    "            continue\n",
    "\n",
    "        # Create YOLO format label\n",
    "        label_lines = []\n",
    "        for l in labels:\n",
    "            l = l.strip()\n",
    "            if l != \"No Finding\":\n",
    "                label_id = class_map[l]\n",
    "                label_lines.append(f\"{label_id} 0.5 0.5 1.0 1.0\")  # whole image bbox\n",
    "\n",
    "        if len(label_lines) == 0:\n",
    "            continue\n",
    "\n",
    "        # Save label file\n",
    "        label_filename = img_name.replace('.png', '.txt').replace('.jpg', '.txt').replace('.jpeg', '.txt')\n",
    "        label_path = f\"labels/{split_name}/{label_filename}\"\n",
    "        with open(label_path, 'w') as f:\n",
    "            f.write(\"\\n\".join(label_lines))\n",
    "\n",
    "        # Save preprocessed image\n",
    "        dst_img_path = f\"images/{split_name}/{img_name}\"\n",
    "        cv2.imwrite(dst_img_path, processed_img)\n",
    "\n",
    "# === 8. Run Processing === #\n",
    "process(train_df, 'train')\n",
    "process(val_df, 'val')\n",
    "\n",
    "# === 9. Generate data.yaml === #\n",
    "with open(\"data.yaml\", \"w\") as f:\n",
    "    f.write(\"train: ./images/train\\n\")\n",
    "    f.write(\"val: ./images/val\\n\")\n",
    "    f.write(f\"nc: {len(all_labels)}\\n\")\n",
    "    f.write(\"names: [\" + \", \".join([f\"'{c}'\" for c in all_labels]) + \"]\\n\")\n",
    "\n",
    "print(\"✅ All Done. YOLOv5 dataset with preprocessing is ready!\")\n"
   ]
  },
  {
   "cell_type": "code",
   "execution_count": 5,
   "metadata": {},
   "outputs": [
    {
     "name": "stderr",
     "output_type": "stream",
     "text": [
      "fatal: destination path 'yolov5' already exists and is not an empty directory.\n"
     ]
    }
   ],
   "source": [
    "! git clone https://github.com/ultralytics/yolov5.git"
   ]
  },
  {
   "cell_type": "code",
   "execution_count": null,
   "metadata": {},
   "outputs": [
    {
     "name": "stdout",
     "output_type": "stream",
     "text": [
      "d:\\Projects\\Disease_Detection\\yolov5\\yolov5\n"
     ]
    }
   ],
   "source": [
    "# import warnings\n",
    "# warnings.filterwarnings(\"ignore\")\n",
    "\n",
    "# %cd yolov5"
   ]
  },
  {
   "cell_type": "code",
   "execution_count": null,
   "metadata": {},
   "outputs": [],
   "source": [
    "# ! pip install yolov5"
   ]
  },
  {
   "cell_type": "code",
   "execution_count": 13,
   "metadata": {},
   "outputs": [],
   "source": [
    "# ! pip install -r \"D:\\Projects\\Disease_Detection\\yolov5\\requirements.txt\""
   ]
  },
  {
   "cell_type": "code",
   "execution_count": null,
   "metadata": {},
   "outputs": [
    {
     "data": {
      "text/plain": [
       "0"
      ]
     },
     "execution_count": 14,
     "metadata": {},
     "output_type": "execute_result"
    }
   ],
   "source": [
    "# import os\n",
    "\n",
    "# # Set your YOLOv5 folder path\n",
    "# yolov5_path = r\"D:\\Projects\\Disease_Detection\\yolov5\"\n",
    "\n",
    "# # Run Git safe.directory command using Python\n",
    "# os.system(f'git config --global --add safe.directory \"{yolov5_path}\"')"
   ]
  },
  {
   "cell_type": "code",
   "execution_count": null,
   "metadata": {},
   "outputs": [
    {
     "name": "stdout",
     "output_type": "stream",
     "text": [
      "✅ Image and label folders copied to yolov5 project.\n"
     ]
    }
   ],
   "source": [
    "# import shutil\n",
    "\n",
    "# # Define paths\n",
    "# src_images = r'D:\\Projects\\Disease_Detection\\images'\n",
    "# src_labels = r'D:\\Projects\\Disease_Detection\\labels'\n",
    "# dst_images = r'D:\\Projects\\Disease_Detection\\yolov5\\data_yolo\\images'\n",
    "# dst_labels = r'D:\\Projects\\Disease_Detection\\yolov5\\data_yolo\\labels'\n",
    "\n",
    "# # Move images and labels\n",
    "# shutil.copytree(src_images, dst_images, dirs_exist_ok=True)\n",
    "# shutil.copytree(src_labels, dst_labels, dirs_exist_ok=True)\n",
    "\n",
    "# print(\"✅ Image and label folders copied to yolov5 project.\")"
   ]
  },
  {
   "cell_type": "code",
   "execution_count": 6,
   "metadata": {},
   "outputs": [
    {
     "data": {
      "text/plain": [
       "'d:\\\\Projects\\\\Disease_Detection\\\\YOLO_Project'"
      ]
     },
     "execution_count": 6,
     "metadata": {},
     "output_type": "execute_result"
    }
   ],
   "source": [
    "import os\n",
    "os.getcwd()\n"
   ]
  },
  {
   "cell_type": "code",
   "execution_count": null,
   "metadata": {},
   "outputs": [],
   "source": [
    "! python \"D:\\Projects\\Disease_Detection\\YOLO_Project\\yolov5\\train.py\" --img 512 --batch 8 --epochs 20 --data \"D:\\Projects\\Disease_Detection\\YOLO_Project\\data.yaml\" --weights yolov5s.pt "
   ]
  },
  {
   "cell_type": "code",
   "execution_count": null,
   "metadata": {},
   "outputs": [],
   "source": [
    "import os\n",
    "import pandas as pd\n",
    "import numpy as np\n",
    "from utils.grad_cam import generate_gradcam\n",
    "from torchvision import models, transforms\n",
    "from PIL import Image\n",
    "import cv2\n",
    "\n",
    "model = models.resnet50(pretrained=True)\n",
    "target_layer = model.layer4[2].conv3\n",
    "\n",
    "transform = transforms.Compose([\n",
    "    transforms.Resize((224, 224)),\n",
    "    transforms.ToTensor()\n",
    "])\n",
    "\n",
    "df = pd.read_csv(r\"F:\\Guvi Projects\\Disease Detection and Diagnosis (Final Project)\\Chest_XRay_Dataset\\Ground_Truth.csv\")\n",
    "bboxdata = []\n",
    "\n",
    "for , row in df.iterrows():\n",
    "    image_path = os.path.join(r\"F:\\Guvi Projects\\Disease Detection and Diagnosis (Final Project)\\Chest_XRay_Dataset\\xray_images\", row[\"Image Index\"])\n",
    "    image = Image.open(image_path)\n",
    "    image_tensor = transform(image)\n",
    "\n",
    "    cam = generate_gradcam(image_tensor, model, target_layer)\n",
    "\n",
    "    threshold = 0.5\n",
    "    cambin = (cam > threshold).astype(np.uint8) * 255\n",
    "    contours,  = cv2.findContours(cam_bin, cv2.RETR_EXTERNAL, cv2.CHAIN_APPROX_SIMPLE)\n",
    "\n",
    "    for cnt in contours:\n",
    "        x, y, w, h = cv2.boundingRect(cnt)\n",
    "        bbox_data.append([row[\"Image Index\"], x, y, x+w, y+h, row[\"Finding Labels\"]])\n",
    "\n",
    "pd.DataFrame(bbox_data, columns=[\"Image\", \"xmin\", \"ymin\", \"xmax\", \"ymax\", \"Labels\"]).to_csv(r\"F:\\Guvi Projects\\Disease Detection and Diagnosis (Final Project)\\Datasets\\pseudo_bboxes.csv\", index=False)"
   ]
  },
  {
   "cell_type": "code",
   "execution_count": null,
   "metadata": {},
   "outputs": [],
   "source": []
  },
  {
   "cell_type": "code",
   "execution_count": null,
   "metadata": {},
   "outputs": [],
   "source": [
    "import sys\n",
    "sys.path.append(r'D:\\Projects\\Disease_Detection\\yolov5')"
   ]
  },
  {
   "cell_type": "code",
   "execution_count": 25,
   "metadata": {},
   "outputs": [],
   "source": [
    "from data_yolo.val import run as validate\n"
   ]
  },
  {
   "cell_type": "code",
   "execution_count": null,
   "metadata": {},
   "outputs": [],
   "source": [
    "import os\n",
    "print(os.getcwd())"
   ]
  },
  {
   "cell_type": "code",
   "execution_count": null,
   "metadata": {},
   "outputs": [],
   "source": [
    "import os\n",
    "import warnings\n",
    "warnings.filterwarnings(\"ignore\", category=UserWarning, module=\".*yaml.*\")\n",
    "print(os.getcwd())  # Check your current working directory\n",
    "print(os.listdir())  # List all files in the directory"
   ]
  },
  {
   "cell_type": "code",
   "execution_count": null,
   "metadata": {},
   "outputs": [],
   "source": [
    "! git clone https://github.com/ultralytics/yolov5.git\n"
   ]
  },
  {
   "cell_type": "code",
   "execution_count": null,
   "metadata": {},
   "outputs": [],
   "source": [
    "! python --version"
   ]
  },
  {
   "cell_type": "code",
   "execution_count": null,
   "metadata": {},
   "outputs": [],
   "source": [
    "# ! pip install -r \"D:\\Projects\\Disease_Detection\\yolov5\\requirements.txt\""
   ]
  },
  {
   "cell_type": "code",
   "execution_count": null,
   "metadata": {},
   "outputs": [],
   "source": [
    "data = {\n",
    "    \"train\": \"D:/Projects/Disease_Detection/yolov5/data_yolo/images/train/\",\n",
    "    \"val\": \"D:/Projects/Disease_Detection/yolov5/data_yolo/images/val/\",\n",
    "    \"nc\": 13,  # Number of disease classes\n",
    "    \"names\": [\n",
    "        \"Atelectasis\", \"Effusion\", \"Mass\", \"Infiltration\", \"Pneumonia\",\n",
    "        \"Nodule\", \"Pneumothorax\", \"Consolidation\", \"Edema\", \"Emphysema\",\n",
    "        \"Fibrosis\", \"Pleural_Thickening\", \"Hernia\"\n",
    "    ]\n",
    "}\n",
    "\n",
    "# Write to YAML file\n",
    "file_path = \"D:/Projects/Disease_Detection/yolov5/data_yolo/train_data.yaml\"\n",
    "with open(file_path, \"w\") as f:\n",
    "    yaml.dump(data, f, default_flow_style=False)\n",
    "\n",
    "print(f\"train_data.yaml created at {file_path}\")"
   ]
  },
  {
   "cell_type": "code",
   "execution_count": null,
   "metadata": {},
   "outputs": [],
   "source": [
    "! python \"D:\\Projects\\Disease_Detection\\yolov5\\train.py\" --img 640 --batch 16 --epochs 20 --data data.yaml --weights yolov5s.pt --device 0"
   ]
  },
  {
   "cell_type": "code",
   "execution_count": null,
   "metadata": {},
   "outputs": [],
   "source": []
  },
  {
   "cell_type": "code",
   "execution_count": null,
   "metadata": {},
   "outputs": [],
   "source": [
    "! python detect.py --img 640 --conf 0.5 --source \"D:\\Projects\\Disease_Detection\\yolov5\\data_yolo\\images\\train\\00000251_000.png\" --weights yolov5s.pt --view-img\n"
   ]
  },
  {
   "cell_type": "code",
   "execution_count": null,
   "metadata": {},
   "outputs": [],
   "source": []
  },
  {
   "cell_type": "code",
   "execution_count": null,
   "metadata": {},
   "outputs": [],
   "source": []
  },
  {
   "cell_type": "code",
   "execution_count": null,
   "metadata": {},
   "outputs": [],
   "source": []
  },
  {
   "cell_type": "code",
   "execution_count": null,
   "metadata": {},
   "outputs": [],
   "source": [
    "! python detect.py --img 1024 --conf 0.5 --source r'D:\\Projects\\Disease_Detection\\yolov5\\data_yolo\\images\\train\\00000250_014.png' --weights yolov5s.pt"
   ]
  },
  {
   "cell_type": "code",
   "execution_count": null,
   "metadata": {},
   "outputs": [],
   "source": []
  },
  {
   "cell_type": "markdown",
   "metadata": {},
   "source": [
    "# Move For Transfer Learning"
   ]
  },
  {
   "cell_type": "code",
   "execution_count": null,
   "metadata": {},
   "outputs": [],
   "source": [
    "# install required transfer learning packages\n",
    "\n",
    "! pip install -r requirements.txt"
   ]
  }
 ],
 "metadata": {
  "kernelspec": {
   "display_name": "Python 3",
   "language": "python",
   "name": "python3"
  },
  "language_info": {
   "codemirror_mode": {
    "name": "ipython",
    "version": 3
   },
   "file_extension": ".py",
   "mimetype": "text/x-python",
   "name": "python",
   "nbconvert_exporter": "python",
   "pygments_lexer": "ipython3",
   "version": "3.11.5"
  }
 },
 "nbformat": 4,
 "nbformat_minor": 2
}
