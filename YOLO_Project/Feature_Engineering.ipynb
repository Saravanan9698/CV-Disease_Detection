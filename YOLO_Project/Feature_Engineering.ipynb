{
 "cells": [
  {
   "cell_type": "code",
   "execution_count": 1,
   "metadata": {},
   "outputs": [],
   "source": [
    "import os\n",
    "import pandas as pd\n",
    "import numpy as np\n",
    "from tqdm import tqdm\n",
    "\n",
    "\n",
    "from sklearn.preprocessing import MinMaxScaler, OneHotEncoder"
   ]
  },
  {
   "cell_type": "code",
   "execution_count": 2,
   "metadata": {},
   "outputs": [
    {
     "name": "stderr",
     "output_type": "stream",
     "text": [
      "100%|██████████| 111010/111010 [01:08<00:00, 1617.29it/s]"
     ]
    },
    {
     "name": "stdout",
     "output_type": "stream",
     "text": [
      "✅ Feature Engineering & YOLO Annotations Completed.\n"
     ]
    },
    {
     "name": "stderr",
     "output_type": "stream",
     "text": [
      "\n"
     ]
    }
   ],
   "source": [
    "# Define paths\n",
    "\n",
    "GROUND_TRUTH_PATH = r\"D:\\Projects\\Disease_Detection\\Ground_Truth.csv\"  # Update with correct path\n",
    "OUTPUT_PATH = r\"D:\\Projects\\Disease_Detection\\yolov5\\data_yolo\\labels\\train\"\n",
    "YOLO_LABELS_PATH = os.path.join(OUTPUT_PATH, \"labels\")\n",
    "\n",
    "# Create output directory\n",
    "\n",
    "os.makedirs(YOLO_LABELS_PATH, exist_ok=True)\n",
    "\n",
    "# Load dataset\n",
    "df = pd.read_csv(r\"D:\\Projects\\Disease_Detection\\Ground_Truth.csv\")\n",
    "\n",
    "# 🔹 Step 1: Normalize Age\n",
    "scaler = MinMaxScaler()\n",
    "df[\"Normalized Age\"] = scaler.fit_transform(df[[\"Patient Age\"]])\n",
    "\n",
    "# 🔹 Step 2: Encode Gender (M → 0, F → 1)\n",
    "df[\"Gender Encoded\"] = df[\"Patient Gender\"].map({\"M\": 0, \"F\": 1})\n",
    "\n",
    "# 🔹 Step 3: One-Hot Encode View Position\n",
    "encoder = OneHotEncoder(sparse_output=False)\n",
    "view_encoded = encoder.fit_transform(df[[\"View Position\"]])\n",
    "view_encoded_df = pd.DataFrame(view_encoded, columns=encoder.get_feature_names_out([\"View Position\"]))\n",
    "df = pd.concat([df, view_encoded_df], axis=1)\n",
    "\n",
    "# 🔹 Step 4: Convert Labels to YOLO Format\n",
    "# Define class mappings\n",
    "disease_labels = {\n",
    "    \"Atelectasis\": 0, \"Effusion\": 1, \"Mass\": 2, \"Infiltration\": 3, \n",
    "    \"Pneumonia\": 4, \"Nodule\": 5, \"Pneumothorax\": 6, \"Consolidation\": 7,\n",
    "    \"Edema\": 8, \"Emphysema\": 9, \"Fibrosis\": 10, \"Pleural_Thickening\": 11,\n",
    "    \"Hernia\": 12\n",
    "}\n",
    "\n",
    "def convert_to_yolo_format(image_name, labels):\n",
    "    \"\"\" Convert multi-label conditions to YOLO format with dummy bounding box. \"\"\"\n",
    "    yolo_annotations = []\n",
    "    for disease in labels:\n",
    "        if disease in disease_labels:\n",
    "            class_id = disease_labels[disease]\n",
    "            # Dummy bounding box (full image)\n",
    "            yolo_annotations.append(f\"{class_id} 0.5 0.5 1.0 1.0\") \n",
    "\n",
    "    return \"\\n\".join(yolo_annotations)\n",
    "\n",
    "# Process dataset\n",
    "for _, row in tqdm(df.iterrows(), total=df.shape[0]):\n",
    "    image_name = row[\"Image Index\"]\n",
    "\n",
    "    # Convert multi-labels to YOLO format\n",
    "    labels = row[\"Finding Labels\"].split(\"|\")  # Multi-label splitting\n",
    "    yolo_annotations = convert_to_yolo_format(image_name, labels)\n",
    "\n",
    "    # Save YOLO annotation file\n",
    "    if yolo_annotations:\n",
    "        label_file = os.path.join(YOLO_LABELS_PATH, image_name.replace('.png', '.txt'))\n",
    "        with open(label_file, \"w\") as f:\n",
    "            f.write(yolo_annotations)\n",
    "\n",
    "print(\"✅ Feature Engineering & YOLO Annotations Completed.\")\n"
   ]
  },
  {
   "cell_type": "code",
   "execution_count": 9,
   "metadata": {},
   "outputs": [],
   "source": [
    "# Load the dataset\n",
    "file_path = \"Ground_Truth.csv\"\n",
    "df = pd.read_csv(file_path)"
   ]
  },
  {
   "cell_type": "code",
   "execution_count": 10,
   "metadata": {},
   "outputs": [],
   "source": [
    "# 1️⃣ Normalize 'Patient Age'\n",
    "scaler = MinMaxScaler()\n",
    "df[\"Patient Age\"] = scaler.fit_transform(df[[\"Patient Age\"]])"
   ]
  },
  {
   "cell_type": "code",
   "execution_count": 11,
   "metadata": {},
   "outputs": [],
   "source": [
    "# 2️⃣ Convert 'Patient Gender' to binary (M -> 1, F -> 0)\n",
    "df[\"Patient Gender\"] = df[\"Patient Gender\"].map({\"M\": 1, \"F\": 0})"
   ]
  },
  {
   "cell_type": "code",
   "execution_count": 12,
   "metadata": {},
   "outputs": [],
   "source": [
    "# 3️⃣ One-Hot Encode 'View Position'\n",
    "encoder = OneHotEncoder(sparse_output=False)\n",
    "view_encoded = encoder.fit_transform(df[[\"View Position\"]])\n",
    "view_labels = encoder.get_feature_names_out([\"View Position\"])\n",
    "df_view = pd.DataFrame(view_encoded, columns=view_labels)\n",
    "\n",
    "df = pd.concat([df, df_view], axis=1)\n",
    "df.drop(columns=[\"View Position\"], inplace=True)"
   ]
  },
  {
   "cell_type": "code",
   "execution_count": 13,
   "metadata": {},
   "outputs": [],
   "source": [
    "# 4️⃣ Generate Synthetic Bounding Boxes (Placeholder Values)\n",
    "# Assuming images are of fixed size (e.g., 1024x1024), we generate random bounding boxes\n",
    "def generate_synthetic_bbox(image_size=(1024, 1024)):\n",
    "    x_min = np.random.randint(100, 400)\n",
    "    y_min = np.random.randint(100, 400)\n",
    "    x_max = np.random.randint(600, 900)\n",
    "    y_max = np.random.randint(600, 900)\n",
    "    return x_min, y_min, x_max, y_max\n",
    "\n",
    "df[['x_min', 'y_min', 'x_max', 'y_max']] = df.apply(lambda row: generate_synthetic_bbox(), axis=1, result_type=\"expand\")\n",
    "\n",
    "# Convert bounding boxes to YOLO format\n",
    "def convert_to_yolo_format(row, img_width=1024, img_height=1024):\n",
    "    x_center = (row['x_min'] + row['x_max']) / 2.0 / img_width\n",
    "    y_center = (row['y_min'] + row['y_max']) / 2.0 / img_height\n",
    "    width = (row['x_max'] - row['x_min']) / img_width\n",
    "    height = (row['y_max'] - row['y_min']) / img_height\n",
    "    return f\"0 {x_center} {y_center} {width} {height}\"  # Assuming single class '0'\n",
    "\n",
    "df['yolo_annotation'] = df.apply(lambda row: convert_to_yolo_format(row), axis=1)"
   ]
  },
  {
   "cell_type": "code",
   "execution_count": 14,
   "metadata": {},
   "outputs": [
    {
     "name": "stdout",
     "output_type": "stream",
     "text": [
      "Feature Engineering Completed Successfully! ✅\n"
     ]
    }
   ],
   "source": [
    "# 5️⃣ Save YOLO Annotations\n",
    "output_dir = \"yolo_labels\"\n",
    "os.makedirs(output_dir, exist_ok=True)\n",
    "\n",
    "for index, row in df.iterrows():\n",
    "    image_name = row[\"Image Index\"].replace(\".png\", \".txt\")\n",
    "    with open(os.path.join(output_dir, image_name), \"w\") as f:\n",
    "        f.write(row['yolo_annotation'])\n",
    "\n",
    "print(\"Feature Engineering Completed Successfully! ✅\")"
   ]
  }
 ],
 "metadata": {
  "kernelspec": {
   "display_name": "Python 3",
   "language": "python",
   "name": "python3"
  },
  "language_info": {
   "codemirror_mode": {
    "name": "ipython",
    "version": 3
   },
   "file_extension": ".py",
   "mimetype": "text/x-python",
   "name": "python",
   "nbconvert_exporter": "python",
   "pygments_lexer": "ipython3",
   "version": "3.12.9"
  }
 },
 "nbformat": 4,
 "nbformat_minor": 2
}
